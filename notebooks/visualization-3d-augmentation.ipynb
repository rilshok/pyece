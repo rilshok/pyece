{
 "cells": [
  {
   "cell_type": "code",
   "execution_count": null,
   "id": "200ccdf5",
   "metadata": {},
   "outputs": [],
   "source": [
    "import gif\n",
    "import matplotlib.pyplot as plt\n",
    "import plotly.graph_objects as go\n",
    "\n",
    "import numpy as np\n",
    "from tqdm.notebook import trange\n",
    "\n",
    "from pyece import (\n",
    "    Corners, Point,\n",
    "    PointInflation, PointShift, PointRotate, RandomUniform, \n",
    "    Transformer,\n",
    ")\n",
    "from pyece.im import cutpatch"
   ]
  },
  {
   "cell_type": "code",
   "execution_count": null,
   "id": "8b7653af",
   "metadata": {},
   "outputs": [],
   "source": [
    "path = \"/anvar/public_datasets/luna2016/generated_cubes/bat_32_s_64x64x32_0.npy\"\n",
    "patches = np.load(path)\n",
    "patches.shape"
   ]
  },
  {
   "cell_type": "code",
   "execution_count": null,
   "id": "d4331adb",
   "metadata": {},
   "outputs": [],
   "source": [
    "patch = patches[1]"
   ]
  },
  {
   "cell_type": "code",
   "execution_count": null,
   "id": "f26f0699",
   "metadata": {},
   "outputs": [],
   "source": [
    "def generate_new_patch(patch: np.ndarray):\n",
    "    corners = Corners.product(patch.shape)\n",
    "\n",
    "    scale = RandomUniform(0.5, 1.5)\n",
    "    shift = RandomUniform(-7.5, 7.5)\n",
    "    stretch = RandomUniform(0.5, 1)\n",
    "    angle = RandomUniform(-np.pi, np.pi)\n",
    "\n",
    "    augmentator = Transformer(\n",
    "        PointShift(shift=Point((shift, shift, shift))),\n",
    "        PointInflation(factor=scale),\n",
    "        PointInflation(factor=Point((stretch, stretch, stretch))),\n",
    "        PointRotate(angle=Point((angle, angle, angle))),\n",
    "    )\n",
    "\n",
    "    new_corners = augmentator(corners).value\n",
    "    new_patch = cutpatch(data=patch, grid=patch.shape, corners=new_corners)\n",
    "    return new_patch"
   ]
  },
  {
   "cell_type": "code",
   "execution_count": null,
   "id": "df0ab052",
   "metadata": {},
   "outputs": [],
   "source": [
    "def plot_volume(volume: np.ndarray, title: str):\n",
    "    x_dim, y_dim, z_dim = volume.shape\n",
    "\n",
    "    fig = go.Figure(\n",
    "        frames=[\n",
    "            go.Frame(\n",
    "                data=go.Surface(\n",
    "                    z=(z_dim - 1 - k) * np.ones((x_dim, y_dim)),\n",
    "                    surfacecolor=volume[..., z_dim - 1 - k],\n",
    "                    cmin=0, cmax=1\n",
    "                ),name=str(k)\n",
    "            ) for k in range(z_dim)\n",
    "        ]\n",
    "    )\n",
    "\n",
    "\n",
    "    # Add data to be displayed before animation starts\n",
    "    fig.add_trace(\n",
    "        go.Surface(\n",
    "            z=(z_dim - 1) * np.ones((x_dim, y_dim)),\n",
    "            surfacecolor=volume[..., z_dim - 1],\n",
    "            colorscale='Gray',\n",
    "            cmin=0, cmax=1,\n",
    "            colorbar=dict(thickness=20, ticklen=4)\n",
    "        )\n",
    "    )\n",
    "\n",
    "    def frame_args(duration):\n",
    "        return {\n",
    "            \"frame\": {\"duration\": duration},\n",
    "            \"mode\": \"immediate\",\n",
    "            \"fromcurrent\": True,\n",
    "            \"transition\": {\"duration\": duration, \"easing\": \"linear\"},\n",
    "        }\n",
    "\n",
    "    sliders = [\n",
    "                {\n",
    "                    \"pad\": {\"b\": 10, \"t\": 60},\n",
    "                    \"len\": 0.9,\n",
    "                    \"x\": 0.1,\n",
    "                    \"y\": 0,\n",
    "                    \"steps\": [\n",
    "                        {\n",
    "                            \"args\": [[f.name], frame_args(0)],\n",
    "                            \"label\": str(k),\n",
    "                            \"method\": \"animate\",\n",
    "                        }\n",
    "                        for k, f in enumerate(fig.frames)\n",
    "                    ],\n",
    "                }\n",
    "            ]\n",
    "\n",
    "    # Layout\n",
    "    fig.update_layout(\n",
    "        title=title,\n",
    "        width=800,\n",
    "        height=800,\n",
    "        scene=dict(\n",
    "            zaxis=dict(range=[-1, z_dim], autorange=False),\n",
    "            aspectratio=dict(x=1, y=1, z=1),\n",
    "        ),\n",
    "        updatemenus = [\n",
    "            {\n",
    "                \"buttons\": [\n",
    "                    {\n",
    "                        \"args\": [None, frame_args(50)],\n",
    "                        \"label\": \"&#9654;\", # play symbol\n",
    "                        \"method\": \"animate\",\n",
    "                    }, {\n",
    "                        \"args\": [[None], frame_args(0)],\n",
    "                        \"label\": \"&#9724;\", # pause symbol\n",
    "                        \"method\": \"animate\",\n",
    "                    },\n",
    "                ],\n",
    "                \"direction\": \"left\",\n",
    "                \"pad\": {\"r\": 10, \"t\": 70},\n",
    "                \"type\": \"buttons\",\n",
    "                \"x\": 0.1,\n",
    "                \"y\": 0,\n",
    "            }\n",
    "        ], sliders=sliders\n",
    "    )\n",
    "    return fig"
   ]
  },
  {
   "cell_type": "code",
   "execution_count": null,
   "id": "2777d4d0",
   "metadata": {
    "scrolled": true
   },
   "outputs": [],
   "source": [
    "fig = plot_volume(patch, title=\"Default patch\")\n",
    "fig.show()"
   ]
  },
  {
   "cell_type": "code",
   "execution_count": null,
   "id": "ea19124c",
   "metadata": {},
   "outputs": [],
   "source": [
    "new_patch = generate_new_patch(patch)"
   ]
  },
  {
   "cell_type": "code",
   "execution_count": null,
   "id": "20dcd1f9",
   "metadata": {},
   "outputs": [],
   "source": [
    "fig = plot_volume(new_patch, title=\"Augmented patch\")\n",
    "fig.show()"
   ]
  },
  {
   "cell_type": "code",
   "execution_count": null,
   "id": "621a1a2b",
   "metadata": {},
   "outputs": [],
   "source": [
    "@gif.frame\n",
    "def plot_frame(k: int, volume: np.ndarray, title: str):\n",
    "    x_dim, y_dim, z_dim = volume.shape\n",
    "    \n",
    "    fig =go.Figure()\n",
    "    fig.add_trace(\n",
    "        go.Surface(\n",
    "            z=(z_dim - 1 - k) * np.ones((x_dim, y_dim)),\n",
    "            surfacecolor=volume[..., z_dim - 1 - k],\n",
    "            colorscale='Gray',\n",
    "            cmin=0, cmax=1\n",
    "        )\n",
    "    )\n",
    "    fig.update_layout(\n",
    "        title=title,\n",
    "        width=800,\n",
    "        height=800,\n",
    "        scene=dict(\n",
    "            zaxis=dict(range=[-1, z_dim], autorange=False),\n",
    "            aspectratio=dict(x=1, y=1, z=1),\n",
    "        ),\n",
    "    )\n",
    "    return fig"
   ]
  },
  {
   "cell_type": "code",
   "execution_count": null,
   "id": "96c30df6",
   "metadata": {},
   "outputs": [],
   "source": [
    "def save_gif(volume: np.ndarray, title: str, path: str):\n",
    "    frames = []\n",
    "    for k in trange(volume.shape[-1]):\n",
    "        frame = plot_frame(k, volume, f\"{title}, frame {k}\")\n",
    "        frames.append(frame)\n",
    "    gif.save(frames, path, duration=100)"
   ]
  },
  {
   "cell_type": "code",
   "execution_count": null,
   "id": "41682f40",
   "metadata": {},
   "outputs": [],
   "source": [
    "save_gif(patch, title=\"Default patch\", path=\"default_patch.gif\")"
   ]
  },
  {
   "cell_type": "code",
   "execution_count": null,
   "id": "1f5f38be",
   "metadata": {},
   "outputs": [],
   "source": [
    "save_gif(new_patch, title=\"Augmented patch\", path=\"new_patch.gif\")"
   ]
  },
  {
   "cell_type": "code",
   "execution_count": null,
   "id": "914b5d44",
   "metadata": {},
   "outputs": [],
   "source": []
  }
 ],
 "metadata": {
  "kernelspec": {
   "display_name": "Python 3 (ipykernel)",
   "language": "python",
   "name": "python3"
  },
  "language_info": {
   "codemirror_mode": {
    "name": "ipython",
    "version": 3
   },
   "file_extension": ".py",
   "mimetype": "text/x-python",
   "name": "python",
   "nbconvert_exporter": "python",
   "pygments_lexer": "ipython3",
   "version": "3.9.7"
  }
 },
 "nbformat": 4,
 "nbformat_minor": 5
}
