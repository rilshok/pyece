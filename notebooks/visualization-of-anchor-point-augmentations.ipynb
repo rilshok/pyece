{
 "cells": [
  {
   "cell_type": "code",
   "execution_count": null,
   "id": "c10ba5f7",
   "metadata": {},
   "outputs": [],
   "source": [
    "import plotly.graph_objects as go\n",
    "import matplotlib.pyplot as plt\n",
    "import numpy as np\n",
    "\n",
    "from pyece import (\n",
    "    RandomUniform, RandomChoice,\n",
    "    PointShift, PointInflation, PointRotate,\n",
    "    Transformer, Point\n",
    ")\n",
    "from pyece import Corners"
   ]
  },
  {
   "cell_type": "code",
   "execution_count": null,
   "id": "2561156b",
   "metadata": {},
   "outputs": [],
   "source": [
    "def draw_corners(ax, corners, color=\"r\", alpha=1.):\n",
    "    p1, p2, p3, p4 = corners\n",
    "    path = np.asarray([p1, p2, p4, p3, p1])\n",
    "    ax.plot(path[:, 0], path[:, 1], c=color, alpha=alpha)\n",
    "    ax.scatter([p1[0]], [p1[1]], c=color, marker='o', s=50)\n",
    "    ax.scatter([p2[0]], [p2[1]], c=color, marker='*', s=50)"
   ]
  },
  {
   "cell_type": "code",
   "execution_count": null,
   "id": "03de8710",
   "metadata": {},
   "outputs": [],
   "source": [
    "corners = Corners.product((10,10))    \n",
    "\n",
    "\n",
    "scale = RandomUniform(0.5, 1.2)\n",
    "stretching = RandomUniform(0.5, 1)\n",
    "\n",
    "\n",
    "rndshift = RandomUniform(-7, 7)\n",
    "rndangl = RandomUniform(-np.pi, np.pi)\n",
    "\n",
    "aug = Transformer(\n",
    "    PointShift((rndshift, rndshift)),\n",
    "    PointInflation(factor = scale),\n",
    "    # PointInflation(factor = Point([flip, flip])),\n",
    "    PointInflation(factor = Point([stretching, stretching])),\n",
    "    \n",
    "    \n",
    "    PointRotate(rndangl),\n",
    ")"
   ]
  },
  {
   "cell_type": "code",
   "execution_count": null,
   "id": "2e973063",
   "metadata": {},
   "outputs": [],
   "source": [
    "fig = plt.figure(figsize=(10,10))\n",
    "ax = fig.add_subplot(1, 1, 1)\n",
    "draw_corners(ax, corners.value, \"red\")\n",
    "\n",
    "for i in range(10):\n",
    "    augbox = aug(corners).value\n",
    "    draw_corners(ax, augbox, color = \"black\", alpha = 0.2)\n",
    "\n",
    "\n",
    "plt.xlim((-5,15))\n",
    "plt.ylim((-5,15))\n",
    "plt.grid()"
   ]
  },
  {
   "cell_type": "code",
   "execution_count": null,
   "id": "64746e16",
   "metadata": {},
   "outputs": [],
   "source": [
    "def plot_corners(fig, box: np.ndarray, color=None):\n",
    "    idx = [0, 1, 3, 2, 6, 4, 5, 7, 3, 2, 0, 4, 5, 1, 5, 7, 6]\n",
    "    fig.add_trace(go.Scatter3d(\n",
    "        x=box[idx, 0], \n",
    "        y=box[idx, 1],\n",
    "        z=box[idx, 2],\n",
    "        marker=dict(\n",
    "            size=0,\n",
    "            color=color,\n",
    "        ),\n",
    "        line=dict(\n",
    "            color=color\n",
    "        )\n",
    "    ))"
   ]
  },
  {
   "cell_type": "code",
   "execution_count": null,
   "id": "05df7603",
   "metadata": {},
   "outputs": [],
   "source": [
    "def generate(transformator, point_cloud, n):\n",
    "    for _ in range(n):\n",
    "        yield transformator(point_cloud).value"
   ]
  },
  {
   "cell_type": "code",
   "execution_count": null,
   "id": "7c11e1e2",
   "metadata": {},
   "outputs": [],
   "source": [
    "corners = Corners.product((10, 10, 10))\n",
    "\n",
    "scale = RandomUniform(0.5, 1.5)\n",
    "shift = RandomUniform(-7.5, 7.5)\n",
    "stretch = RandomUniform(0.5, 1)\n",
    "angle = RandomUniform(-np.pi, np.pi)\n",
    "\n",
    "augmentator = Transformer(\n",
    "    PointShift(shift=Point((shift, shift, shift))),\n",
    "    PointInflation(factor=scale),\n",
    "    PointInflation(factor=Point((stretch, stretch, stretch))),\n",
    "    PointRotate(angle=Point((angle, angle, angle))),\n",
    ")"
   ]
  },
  {
   "cell_type": "code",
   "execution_count": null,
   "id": "05cbcd23",
   "metadata": {},
   "outputs": [],
   "source": [
    "fig = go.Figure()\n",
    "plot_corners(fig, corners.value, color='red')\n",
    "for x in generate(augmentator, corners, 3):\n",
    "    plot_corners(fig, x, color='black')\n",
    "fig.show()"
   ]
  },
  {
   "cell_type": "code",
   "execution_count": null,
   "id": "bcb58d53",
   "metadata": {},
   "outputs": [],
   "source": []
  }
 ],
 "metadata": {
  "kernelspec": {
   "display_name": "Python 3 (ipykernel)",
   "language": "python",
   "name": "python3"
  },
  "language_info": {
   "codemirror_mode": {
    "name": "ipython",
    "version": 3
   },
   "file_extension": ".py",
   "mimetype": "text/x-python",
   "name": "python",
   "nbconvert_exporter": "python",
   "pygments_lexer": "ipython3",
   "version": "3.9.7"
  }
 },
 "nbformat": 4,
 "nbformat_minor": 5
}
